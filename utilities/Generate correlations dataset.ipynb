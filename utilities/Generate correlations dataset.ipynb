{
 "cells": [
  {
   "cell_type": "markdown",
   "metadata": {},
   "source": [
    "# Setup"
   ]
  },
  {
   "cell_type": "code",
   "execution_count": 1,
   "metadata": {},
   "outputs": [],
   "source": [
    "# Import our plotting package from matplotlib\n",
    "import matplotlib.pyplot as plt\n",
    "\n",
    "# Specify that all plots will happen inline & in high resolution\n",
    "%matplotlib inline  \n",
    "%config InlineBackend.figure_format = 'retina'\n",
    "\n",
    "# Import pandas for working with databases\n",
    "import pandas as pd\n",
    "\n",
    "# Import numpy below\n",
    "import numpy as np"
   ]
  },
  {
   "cell_type": "markdown",
   "metadata": {},
   "source": [
    "The Allen Institute has compiled a set of code and tools called a **Software Development Kit** (SDK). We need to make sure that you have this installed in your environment.\n",
    "\n",
    "See [Technical Notes](#technical) at the end of this notebook for more information about working with the AllenSDK.\n",
    "\n",
    "<div class=\"alert alert-success\"><b>Task</b>: Run the cell below. If you receive an error, there are additional instructions on how to install the SDK locally <a href=\"https://allensdk.readthedocs.io/en/latest/install.html\">here</a>.</div>"
   ]
  },
  {
   "cell_type": "code",
   "execution_count": 2,
   "metadata": {
    "scrolled": false
   },
   "outputs": [
    {
     "name": "stdout",
     "output_type": "stream",
     "text": [
      "allensdk version 2.2.0 already installed\n"
     ]
    }
   ],
   "source": [
    "# This will ensure that the AllenSDK is installed.\n",
    "try:\n",
    "    import allensdk\n",
    "    if allensdk.__version__ == '2.2.0':\n",
    "        print('allensdk version ' + allensdk.__version__ + ' already installed')\n",
    "    else:\n",
    "        print('allensdk installed with an older version. some features may not work.')\n",
    "except ImportError as e:\n",
    "    !pip install allensdk"
   ]
  },
  {
   "cell_type": "markdown",
   "metadata": {},
   "source": [
    "Now that we have the allensdk installed, we can `import` the CellTypesCache module. This module provides tools to allow us to get information from the Cell Types database. \n",
    "\n",
    "The CellTypesCache that we're importing provides tools to allow us to get information from the cell types database. We're giving it a **manifest** filename as well. CellTypesCache will create this manifest file, which contains metadata about the cache. If you want, you can look in the cell_types folder in your code directory and take a look at the file.\n",
    "\n",
    "<div class=\"alert alert-success\"><b>Task</b>: Run the cell below.</div>"
   ]
  },
  {
   "cell_type": "code",
   "execution_count": 3,
   "metadata": {},
   "outputs": [
    {
     "name": "stdout",
     "output_type": "stream",
     "text": [
      "CellTypesCache imported.\n"
     ]
    }
   ],
   "source": [
    "#Import the \"CellTypesCache\" and \"CellTypesApi\" from the AllenSDK core package\n",
    "from allensdk.core.cell_types_cache import CellTypesCache\n",
    "from allensdk.api.queries.cell_types_api import CellTypesApi\n",
    "\n",
    "\n",
    "#Initialize the cache as 'ctc' (cell types cache)\n",
    "ctc = CellTypesCache(manifest_file='cell_types/manifest.json')\n",
    "\n",
    "print('CellTypesCache imported.')"
   ]
  },
  {
   "cell_type": "code",
   "execution_count": 4,
   "metadata": {},
   "outputs": [
    {
     "data": {
      "text/html": [
       "<div>\n",
       "<style scoped>\n",
       "    .dataframe tbody tr th:only-of-type {\n",
       "        vertical-align: middle;\n",
       "    }\n",
       "\n",
       "    .dataframe tbody tr th {\n",
       "        vertical-align: top;\n",
       "    }\n",
       "\n",
       "    .dataframe thead th {\n",
       "        text-align: right;\n",
       "    }\n",
       "</style>\n",
       "<table border=\"1\" class=\"dataframe\">\n",
       "  <thead>\n",
       "    <tr style=\"text-align: right;\">\n",
       "      <th></th>\n",
       "      <th>reporter_status</th>\n",
       "      <th>cell_soma_location</th>\n",
       "      <th>species</th>\n",
       "      <th>id_x</th>\n",
       "      <th>name</th>\n",
       "      <th>structure_layer_name</th>\n",
       "      <th>structure_area_id</th>\n",
       "      <th>structure_area_abbrev</th>\n",
       "      <th>transgenic_line</th>\n",
       "      <th>dendrite_type</th>\n",
       "      <th>...</th>\n",
       "      <th>trough_t_ramp</th>\n",
       "      <th>trough_t_short_square</th>\n",
       "      <th>trough_v_long_square</th>\n",
       "      <th>trough_v_ramp</th>\n",
       "      <th>trough_v_short_square</th>\n",
       "      <th>upstroke_downstroke_ratio_long_square</th>\n",
       "      <th>upstroke_downstroke_ratio_ramp</th>\n",
       "      <th>upstroke_downstroke_ratio_short_square</th>\n",
       "      <th>vm_for_sag</th>\n",
       "      <th>vrest</th>\n",
       "    </tr>\n",
       "  </thead>\n",
       "  <tbody>\n",
       "    <tr>\n",
       "      <th>0</th>\n",
       "      <td>None</td>\n",
       "      <td>[273.0, 354.0, 216.0]</td>\n",
       "      <td>Homo Sapiens</td>\n",
       "      <td>525011903</td>\n",
       "      <td>H16.03.003.01.14.02</td>\n",
       "      <td>3</td>\n",
       "      <td>12113</td>\n",
       "      <td>FroL</td>\n",
       "      <td></td>\n",
       "      <td>spiny</td>\n",
       "      <td>...</td>\n",
       "      <td>4.134987</td>\n",
       "      <td>1.375253</td>\n",
       "      <td>-53.968754</td>\n",
       "      <td>-59.510420</td>\n",
       "      <td>-71.197919</td>\n",
       "      <td>2.895461</td>\n",
       "      <td>2.559876</td>\n",
       "      <td>3.099787</td>\n",
       "      <td>-88.843758</td>\n",
       "      <td>-70.561035</td>\n",
       "    </tr>\n",
       "    <tr>\n",
       "      <th>1</th>\n",
       "      <td>None</td>\n",
       "      <td>[69.0, 254.0, 96.0]</td>\n",
       "      <td>Homo Sapiens</td>\n",
       "      <td>528642047</td>\n",
       "      <td>H16.06.009.01.02.06.05</td>\n",
       "      <td>5</td>\n",
       "      <td>12141</td>\n",
       "      <td>MTG</td>\n",
       "      <td></td>\n",
       "      <td>aspiny</td>\n",
       "      <td>...</td>\n",
       "      <td>NaN</td>\n",
       "      <td>1.051160</td>\n",
       "      <td>-67.468758</td>\n",
       "      <td>NaN</td>\n",
       "      <td>-70.875002</td>\n",
       "      <td>1.891881</td>\n",
       "      <td>NaN</td>\n",
       "      <td>1.989616</td>\n",
       "      <td>-101.000000</td>\n",
       "      <td>-69.209610</td>\n",
       "    </tr>\n",
       "    <tr>\n",
       "      <th>2</th>\n",
       "      <td>None</td>\n",
       "      <td>[322.0, 255.0, 92.0]</td>\n",
       "      <td>Homo Sapiens</td>\n",
       "      <td>537256313</td>\n",
       "      <td>H16.03.006.01.05.02</td>\n",
       "      <td>4</td>\n",
       "      <td>12141</td>\n",
       "      <td>MTG</td>\n",
       "      <td></td>\n",
       "      <td>spiny</td>\n",
       "      <td>...</td>\n",
       "      <td>5.694547</td>\n",
       "      <td>1.389900</td>\n",
       "      <td>-52.125004</td>\n",
       "      <td>-51.520836</td>\n",
       "      <td>-72.900002</td>\n",
       "      <td>3.121182</td>\n",
       "      <td>3.464528</td>\n",
       "      <td>3.054681</td>\n",
       "      <td>-87.531250</td>\n",
       "      <td>-72.628105</td>\n",
       "    </tr>\n",
       "    <tr>\n",
       "      <th>3</th>\n",
       "      <td>None</td>\n",
       "      <td>[79.0, 273.0, 91.0]</td>\n",
       "      <td>Homo Sapiens</td>\n",
       "      <td>519832676</td>\n",
       "      <td>H16.03.001.01.09.01</td>\n",
       "      <td>3</td>\n",
       "      <td>12141</td>\n",
       "      <td>MTG</td>\n",
       "      <td></td>\n",
       "      <td>spiny</td>\n",
       "      <td>...</td>\n",
       "      <td>9.962780</td>\n",
       "      <td>1.211020</td>\n",
       "      <td>-53.875004</td>\n",
       "      <td>-52.416668</td>\n",
       "      <td>-73.693753</td>\n",
       "      <td>4.574865</td>\n",
       "      <td>3.817988</td>\n",
       "      <td>4.980603</td>\n",
       "      <td>-84.218758</td>\n",
       "      <td>-72.547661</td>\n",
       "    </tr>\n",
       "    <tr>\n",
       "      <th>4</th>\n",
       "      <td>None</td>\n",
       "      <td>[66.0, 220.0, 105.0]</td>\n",
       "      <td>Homo Sapiens</td>\n",
       "      <td>596020931</td>\n",
       "      <td>H17.06.009.11.04.02</td>\n",
       "      <td>4</td>\n",
       "      <td>12141</td>\n",
       "      <td>MTG</td>\n",
       "      <td></td>\n",
       "      <td>aspiny</td>\n",
       "      <td>...</td>\n",
       "      <td>14.667340</td>\n",
       "      <td>1.336668</td>\n",
       "      <td>-63.593754</td>\n",
       "      <td>-63.239583</td>\n",
       "      <td>-75.518753</td>\n",
       "      <td>1.452890</td>\n",
       "      <td>1.441754</td>\n",
       "      <td>1.556087</td>\n",
       "      <td>-82.531250</td>\n",
       "      <td>-74.260269</td>\n",
       "    </tr>\n",
       "  </tbody>\n",
       "</table>\n",
       "<p>5 rows × 72 columns</p>\n",
       "</div>"
      ],
      "text/plain": [
       "  reporter_status     cell_soma_location       species       id_x  \\\n",
       "0            None  [273.0, 354.0, 216.0]  Homo Sapiens  525011903   \n",
       "1            None    [69.0, 254.0, 96.0]  Homo Sapiens  528642047   \n",
       "2            None   [322.0, 255.0, 92.0]  Homo Sapiens  537256313   \n",
       "3            None    [79.0, 273.0, 91.0]  Homo Sapiens  519832676   \n",
       "4            None   [66.0, 220.0, 105.0]  Homo Sapiens  596020931   \n",
       "\n",
       "                     name structure_layer_name  structure_area_id  \\\n",
       "0     H16.03.003.01.14.02                    3              12113   \n",
       "1  H16.06.009.01.02.06.05                    5              12141   \n",
       "2     H16.03.006.01.05.02                    4              12141   \n",
       "3     H16.03.001.01.09.01                    3              12141   \n",
       "4     H17.06.009.11.04.02                    4              12141   \n",
       "\n",
       "  structure_area_abbrev transgenic_line dendrite_type  ... trough_t_ramp  \\\n",
       "0                  FroL                         spiny  ...      4.134987   \n",
       "1                   MTG                        aspiny  ...           NaN   \n",
       "2                   MTG                         spiny  ...      5.694547   \n",
       "3                   MTG                         spiny  ...      9.962780   \n",
       "4                   MTG                        aspiny  ...     14.667340   \n",
       "\n",
       "  trough_t_short_square trough_v_long_square  trough_v_ramp  \\\n",
       "0              1.375253           -53.968754     -59.510420   \n",
       "1              1.051160           -67.468758            NaN   \n",
       "2              1.389900           -52.125004     -51.520836   \n",
       "3              1.211020           -53.875004     -52.416668   \n",
       "4              1.336668           -63.593754     -63.239583   \n",
       "\n",
       "  trough_v_short_square  upstroke_downstroke_ratio_long_square  \\\n",
       "0            -71.197919                               2.895461   \n",
       "1            -70.875002                               1.891881   \n",
       "2            -72.900002                               3.121182   \n",
       "3            -73.693753                               4.574865   \n",
       "4            -75.518753                               1.452890   \n",
       "\n",
       "   upstroke_downstroke_ratio_ramp  upstroke_downstroke_ratio_short_square  \\\n",
       "0                        2.559876                                3.099787   \n",
       "1                             NaN                                1.989616   \n",
       "2                        3.464528                                3.054681   \n",
       "3                        3.817988                                4.980603   \n",
       "4                        1.441754                                1.556087   \n",
       "\n",
       "   vm_for_sag      vrest  \n",
       "0  -88.843758 -70.561035  \n",
       "1 -101.000000 -69.209610  \n",
       "2  -87.531250 -72.628105  \n",
       "3  -84.218758 -72.547661  \n",
       "4  -82.531250 -74.260269  \n",
       "\n",
       "[5 rows x 72 columns]"
      ]
     },
     "execution_count": 4,
     "metadata": {},
     "output_type": "execute_result"
    }
   ],
   "source": [
    "# Let's now get all of the electrophysiology data for the mouse and human cells, separately.\n",
    "\n",
    "# Get the ephys features make a dataframe out of it\n",
    "ephys_features = ctc.get_ephys_features()\n",
    "ephys_features_df = pd.DataFrame.from_records(ephys_features)\n",
    "\n",
    "# grab mouse data and merge with dataframe\n",
    "mouse_df = pd.DataFrame(ctc.get_cells(species=[CellTypesApi.MOUSE]))\n",
    "mouse_ephys_df = pd.merge(mouse_df,ephys_features_df,left_on='id',right_on='specimen_id',how='left')\n",
    "\n",
    "# grab human data and merge with dataframe\n",
    "human_df = pd.DataFrame(ctc.get_cells(species=[CellTypesApi.HUMAN]))\n",
    "human_ephys_df = pd.merge(human_df,ephys_features_df,left_on='id',right_on='specimen_id',how='left')\n",
    "\n",
    "# Show the first five rows of the human dataframe\n",
    "human_ephys_df.head()"
   ]
  },
  {
   "cell_type": "markdown",
   "metadata": {},
   "source": [
    "# Get all the good stuff out of the dataset"
   ]
  },
  {
   "cell_type": "code",
   "execution_count": null,
   "metadata": {
    "scrolled": true
   },
   "outputs": [
    {
     "name": "stderr",
     "output_type": "stream",
     "text": [
      "2020-09-30 15:24:21,823 allensdk.api.api.retrieve_file_over_http INFO     Downloading URL: http://api.brain-map.org/api/v2/well_known_file_download/614430804\n",
      "2020-09-30 15:24:22,534 allensdk.api.api.retrieve_file_over_http INFO     Downloading URL: http://api.brain-map.org/api/v2/well_known_file_download/657593282\n",
      "2020-09-30 15:24:30,980 allensdk.api.api.retrieve_file_over_http INFO     Downloading URL: http://api.brain-map.org/api/v2/well_known_file_download/596793165\n",
      "2020-09-30 15:24:32,051 allensdk.api.api.retrieve_file_over_http INFO     Downloading URL: http://api.brain-map.org/api/v2/well_known_file_download/657593515\n",
      "2020-09-30 15:24:46,637 allensdk.api.api.retrieve_file_over_http INFO     Downloading URL: http://api.brain-map.org/api/v2/well_known_file_download/610885976\n",
      "2020-09-30 15:24:47,092 allensdk.api.api.retrieve_file_over_http INFO     Downloading URL: http://api.brain-map.org/api/v2/well_known_file_download/657593464\n"
     ]
    }
   ],
   "source": [
    "df = mouse_ephys_df\n",
    "\n",
    "cell_surface_area = []\n",
    "dendrite_type = []\n",
    "input_resistance = []\n",
    "tau = []\n",
    "rheobase = []\n",
    "\n",
    "for i in range(len(df)):\n",
    "    this_cell = df['specimen_id'][i]\n",
    "    if df['reconstruction_type'][i] == 'full':\n",
    "        try:\n",
    "            morphology = ctc.get_reconstruction(this_cell) \n",
    "            this_cell_radius = morphology.soma['radius']        \n",
    "            cell_surface_area.append(4*np.pi*this_cell_radius*this_cell_radius)\n",
    "            input_resistance.append(df['input_resistance_mohm'][i])\n",
    "            tau.append(df['tau'][i])\n",
    "            dendrite_type.append(df['dendrite_type'][i])\n",
    "            \n",
    "            # All of this to get the rheobase.\n",
    "            rheobase_sweep_number = df['rheobase_sweep_number'][i]\n",
    "            this_data = ctc.get_ephys_data(this_cell)\n",
    "            rheo_sweep_meta = this_data.get_sweep_metadata(rheobase_sweep_number)\n",
    "            rheobase.append(rheo_sweep_meta['aibs_stimulus_amplitude_pa'])\n",
    "            \n",
    "        except:\n",
    "            pass"
   ]
  },
  {
   "cell_type": "code",
   "execution_count": 44,
   "metadata": {},
   "outputs": [
    {
     "data": {
      "text/html": [
       "<div>\n",
       "<style scoped>\n",
       "    .dataframe tbody tr th:only-of-type {\n",
       "        vertical-align: middle;\n",
       "    }\n",
       "\n",
       "    .dataframe tbody tr th {\n",
       "        vertical-align: top;\n",
       "    }\n",
       "\n",
       "    .dataframe thead th {\n",
       "        text-align: right;\n",
       "    }\n",
       "</style>\n",
       "<table border=\"1\" class=\"dataframe\">\n",
       "  <thead>\n",
       "    <tr style=\"text-align: right;\">\n",
       "      <th></th>\n",
       "      <th>cell_surface_area</th>\n",
       "      <th>dendrite_type</th>\n",
       "      <th>rheobase</th>\n",
       "      <th>input_resistance</th>\n",
       "      <th>tau</th>\n",
       "    </tr>\n",
       "  </thead>\n",
       "  <tbody>\n",
       "    <tr>\n",
       "      <th>0</th>\n",
       "      <td>497.493364</td>\n",
       "      <td>spiny</td>\n",
       "      <td>129.999997</td>\n",
       "      <td>66.745424</td>\n",
       "      <td>50.049031</td>\n",
       "    </tr>\n",
       "    <tr>\n",
       "      <th>1</th>\n",
       "      <td>803.463769</td>\n",
       "      <td>aspiny</td>\n",
       "      <td>210.000003</td>\n",
       "      <td>126.099720</td>\n",
       "      <td>7.177321</td>\n",
       "    </tr>\n",
       "    <tr>\n",
       "      <th>2</th>\n",
       "      <td>294.496426</td>\n",
       "      <td>spiny</td>\n",
       "      <td>129.999997</td>\n",
       "      <td>310.081920</td>\n",
       "      <td>14.055187</td>\n",
       "    </tr>\n",
       "    <tr>\n",
       "      <th>3</th>\n",
       "      <td>590.989132</td>\n",
       "      <td>aspiny</td>\n",
       "      <td>69.999999</td>\n",
       "      <td>208.228560</td>\n",
       "      <td>18.539072</td>\n",
       "    </tr>\n",
       "    <tr>\n",
       "      <th>4</th>\n",
       "      <td>886.070983</td>\n",
       "      <td>aspiny</td>\n",
       "      <td>289.999996</td>\n",
       "      <td>139.217248</td>\n",
       "      <td>5.725947</td>\n",
       "    </tr>\n",
       "  </tbody>\n",
       "</table>\n",
       "</div>"
      ],
      "text/plain": [
       "   cell_surface_area dendrite_type    rheobase  input_resistance        tau\n",
       "0         497.493364         spiny  129.999997         66.745424  50.049031\n",
       "1         803.463769        aspiny  210.000003        126.099720   7.177321\n",
       "2         294.496426         spiny  129.999997        310.081920  14.055187\n",
       "3         590.989132        aspiny   69.999999        208.228560  18.539072\n",
       "4         886.070983        aspiny  289.999996        139.217248   5.725947"
      ]
     },
     "execution_count": 44,
     "metadata": {},
     "output_type": "execute_result"
    }
   ],
   "source": [
    "# Get organized\n",
    "fields = ['cell_surface_area','dendrite_type','rheobase','input_resistance','tau']\n",
    "dataset = pd.DataFrame(list(zip(cell_surface_area,dendrite_type,rheobase,input_resistance,tau)),columns=fields)\n",
    "dataset.head()"
   ]
  },
  {
   "cell_type": "code",
   "execution_count": 46,
   "metadata": {},
   "outputs": [
    {
     "data": {
      "text/plain": [
       "',cell_surface_area,dendrite_type,rheobase,input_resistance,tau\\n0,497.4933637737075,spiny,129.99999687846,66.745424,50.0490308584905\\n1,803.4637689271481,aspiny,210.00000349769,126.09971999999999,7.1773210949830695\\n2,294.49642649764985,spiny,129.99999687846,310.08192,14.0551868750163\\n3,590.9891320541069,aspiny,69.9999988529321,208.22856000000002,18.539071801402898\\n4,886.0709826560285,aspiny,289.999996239132,139.217248,5.725947148951009\\n5,441.775944334967,spiny,129.99999687846,117.16936000000001,36.3162163557091\\n6,350.7683562662959,spiny,50.0000006675716,234.6812,28.720737142611604\\n7,985.8984550005495,spiny,190.000001842883,70.14132,20.7504039518502\\n8,631.9014221376159,spiny,69.9999988529321,109.75153600000002,26.8857603438525\\n9,582.2316962313613,aspiny,149.999998533268,122.644168,13.2589154509282\\n10,333.990872588279,aspiny,9.99999996004197,464.684576,14.3873486560622\\n11,1079.026102386544,spiny,329.999999548747,41.254088,15.361736567964098\\n12,435.7317664959879,sparsely spiny,29.9999990127642,477.93254400000006,16.535742803663098\\n13,673.6306836420184,spiny,59.9999980255284,107.089224,50.02505474799629\\n14,694.846103121955,aspiny,190.000001842883,194.528224,5.6987736238026905\\n15,800.1111762295282,spiny,69.9999988529321,143.36952,31.521306727814004\\n16,476.0492294370856,aspiny,50.0000006675716,251.14550400000002,12.6810133510552\\n17,805.8570190053442,spiny,190.000001842883,112.95582399999999,28.1430072488988\\n18,370.5591232937537,spiny,39.9999998401679,230.627856,24.4302487737689\\n19,588.1486905873346,aspiny,129.99999687846,183.75875200000002,9.942465948140331\\n20,497.4933637737075,sparsely spiny,39.9999998401679,245.16572799999997,20.2367383432031\\n21,325.67313507863935,spiny,69.9999988529321,218.53332799999998,31.2212750880442\\n22,642.5680490548823,aspiny,50.0000006675716,297.887264,13.6308665767892\\n23,1048.4117474356788,spiny,170.000000188075,56.290028,33.5107110229094\\n24,433.9724156736995,spiny,90.0000005077395,123.418208,30.598392392477102\\n25,686.3130353226354,aspiny,90.0000005077395,217.911984,26.4388729830127\\n26,629.0708804576137,aspiny,90.0000005077395,115.97046399999999,10.8321689061591\\n27,577.3492716901937,spiny,129.99999687846,81.01364000000001,24.0763760514158\\n28,632.1866083788865,spiny,50.0000006675716,145.581088,38.3478424772232\\n29,457.0306367299005,aspiny,19.9999999200839,1099.8342400000001,16.1295703309974\\n30,1116.9182126964188,spiny,210.00000349769,68.311752,33.9352316042905\\n31,519.6684650394105,aspiny,79.9999996803358,229.103968,8.64352768096981\\n32,805.8570190053442,spiny,230.000005152498,62.743816,20.4744097196144\\n33,900.5863338925031,sparsely spiny,69.9999988529321,149.26646399999998,27.548390581658\\n34,686.1644545777299,spiny,180.000001015479,71.91967199999999,25.839733037371502\\n35,666.8028316200265,aspiny,29.9999990127642,323.30400000000003,30.7479502793543\\n36,1422.4198688524946,spiny,170.000000188075,126.77191200000001,26.3192883097222\\n37,913.4402517178439,spiny,90.0000005077395,126.59832,34.7275605751781\\n38,925.0909656949106,aspiny,210.00000349769,104.87456,9.4488988552975\\n39,595.0291272154807,aspiny,110.000002162547,174.323424,9.37373628644936\\n40,710.8790037056752,spiny,69.9999988529321,156.72483200000002,35.709055555671505\\n41,635.0420094815564,spiny,149.999998533268,142.888656,19.939977570714397\\n42,1144.1171159532316,spiny,289.999996239132,48.432036,27.6114739264529\\n43,694.846103121955,spiny,119.999996051057,96.295632,30.0321945642982\\n44,621.9073947508474,spiny,50.0000006675716,191.37712,37.3912024772903\\n45,252.62885713065526,spiny,469.999983376823,88.4942,12.75384148338\\n46,460.17347936037527,aspiny,110.000002162547,171.016448,8.899049565824118\\n47,1330.1133748498705,spiny,170.000000188075,105.57825600000001,68.671009882657\\n48,760.4658889552475,spiny,230.000005152498,80.001152,22.9500856200316\\n49,829.0459658787636,spiny,129.99999687846,135.570304,20.6266042567831\\n50,941.5085976530413,spiny,129.99999687846,93.463704,19.7543110127049\\n51,488.5988395289742,spiny,249.999992929517,73.672832,20.5123679648616\\n52,307.63386124758864,aspiny,9.99999996004197,735.8667519999999,17.9747425392192\\n53,2028.5538862188232,spiny,309.999997893939,103.684656,25.1311724055763\\n54,1037.6729092519777,spiny,90.0000005077395,79.65869599999999,31.6537113580133\\n55,1320.0997508364471,spiny,149.999998533268,52.077624,43.279945670103395\\n56,497.4933637737075,spiny,170.000000188075,97.87244,17.847698807341303\\n57,410.37560663314355,spiny,50.0000006675716,261.532848,24.4952829459348\\n58,340.3045445388875,spiny,29.9999990127642,313.490688,52.5480069670189\\n59,576.5829297995143,aspiny,50.0000006675716,199.114304,46.407496879376104\\n60,354.88337454519313,aspiny,69.9999988529321,303.065856,10.6623203984779\\n61,760.8374082989216,spiny,159.999999360672,76.837176,24.6574835549825\\n62,931.7229242096427,spiny,69.9999988529321,204.511152,29.6413845111264\\n63,461.96987069102295,spiny,90.0000005077395,111.16623200000001,48.6829629366567\\n64,321.57902472717035,sparsely spiny,19.9999999200839,598.925248,13.8968721649436\\n65,1184.2233226220021,spiny,69.9999988529321,102.640416,54.017606438724606\\n66,695.4629672801943,spiny,350.000001203554,40.538012,18.9189015272169\\n67,900.990630351978,aspiny,39.9999998401679,235.850144,17.696206426110603\\n68,542.7233914445637,spiny,29.9999990127642,152.173744,45.0453357271194\\n69,630.2450509632203,spiny,50.0000006675716,178.22208,38.929508524781\\n70,981.8510562362643,spiny,100.000001335143,120.66058400000001,23.403546499369803\\n71,1451.2827476972166,spiny,100.000001335143,54.87316800000001,30.180918402605702\\n72,511.153873700469,spiny,230.000005152498,71.241976,21.4913328226548\\n73,509.07220665599203,aspiny,29.9999990127642,271.45216,19.2863462808735\\n74,603.359364242643,spiny,39.9999998401679,88.06633599999999,35.5803037394504\\n75,720.8758318851263,aspiny,269.999994584325,63.21074399999999,7.424675383520531\\n76,380.2156536543132,sparsely spiny,9.99999996004197,708.685568,20.7897950930691\\n77,760.4658889552475,spiny,350.000001203554,42.461108,20.494325733407802\\n78,277.4612058043501,spiny,50.0000006675716,383.577888,17.6756011455545\\n79,424.54218642135766,spiny,69.9999988529321,172.540096,20.1373027301854\\n80,360.5823901232157,spiny,50.0000006675716,300.66303999999997,32.288203322383104\\n81,2023.5117431071476,spiny,220.000004325094,52.75844,25.9421972155833\\n82,807.0449080920869,aspiny,249.999992929517,117.895176,5.483142018702849\\n83,981.5844873243867,spiny,210.00000349769,59.129707999999994,18.7355875469557\\n84,726.4640326831781,spiny,129.99999687846,113.73699199999999,27.623987284240002\\n85,572.4874047260415,spiny,329.999999548747,57.130152,19.4639031776071\\n86,871.5270422980875,spiny,210.00000349769,67.98776,20.4481666233022\\n87,880.2347573905421,spiny,230.000005152498,50.913988,28.658737015957698\\n88,444.7015059980513,spiny,90.0000005077395,228.68704,27.841919773109797\\n89,925.0909656949106,spiny,90.0000005077395,109.921224,43.29955957821589\\n90,632.1866083788865,spiny,319.999998721343,51.639332,24.332130901725996\\n91,359.02238981674304,sparsely spiny,39.9999998401679,513.152448,15.950617573018201\\n92,1335.8857498836107,spiny,149.999998533268,53.611231999999994,38.1235211248338\\n93,679.0884453874295,spiny,350.000001203554,57.31081999999999,17.483850139802\\n94,1196.9687178990362,aspiny,450.000009477591,63.738688,7.02576737980278\\n95,322.4568820986459,aspiny,19.9999999200839,340.759328,49.4171137068811\\n96,487.11117916857125,spiny,50.0000006675716,240.300512,26.2318712771958\\n97,315.7572212569193,aspiny,59.9999980255284,197.94711999999998,26.542197998742598\\n98,449.6039086808852,sparsely spiny,50.0000006675716,243.19608,15.7180026993333\\n99,444.56695749089215,spiny,190.000001842883,94.666448,25.9429542580998\\n100,914.6834794565244,spiny,129.99999687846,75.62576,32.48537052388\\n101,663.0550353630445,aspiny,50.0000006675716,204.1356,31.6893713757341\\n102,611.957952595691,spiny,269.999994584325,33.938696,20.139267264955198\\n103,600.1592625674728,spiny,299.999997066536,46.63342,24.74748336536\\n104,628.5908535196135,spiny,69.9999988529321,147.88936,37.424491361526606\\n105,843.1089816828513,spiny,329.999999548747,46.646864,28.526440680229395\\n106,427.0292043694678,spiny,309.999997893939,56.007383999999995,19.7421240479241\\n107,1391.9946548696398,aspiny,119.999996051057,159.02096,7.919525980221049\\n108,554.7306788267508,aspiny,129.99999687846,243.750928,7.073252621749389\\n109,591.5925295869409,spiny,170.000000188075,84.81179200000001,32.0575014790195\\n110,592.0582180447427,spiny,259.999993756921,79.530488,27.2643327261422\\n111,663.2558684592653,spiny,69.9999988529321,127.043168,27.1782002288428\\n112,474.7507242446916,spiny,329.999999548747,54.985648,18.325328986586\\n113,544.707209187615,spiny,29.9999990127642,287.634368,39.1211351396433\\n114,411.15154030884906,spiny,50.0000006675716,420.07072,32.4158871029493\\n115,1307.0463278032687,spiny,139.999997705864,55.91976,36.251394175310104\\n116,927.3133797345157,spiny,110.000002162547,73.158304,25.7722628475565\\n117,730.6741337770103,aspiny,19.9999999200839,743.157504,20.370342703046997\\n118,533.087737218515,spiny,180.000001015479,91.016552,17.835172777485603\\n119,925.0909656949106,spiny,450.000009477591,41.800588,18.2529912157985\\n120,1045.8422242273177,spiny,149.999998533268,56.843276,31.946181680738896\\n121,715.5367681809637,sparsely spiny,100.000001335143,145.889152,23.7378248762697\\n122,506.5638556601358,spiny,309.999997893939,91.22399999999999,14.612858902474\\n123,843.35603451851,spiny,119.999996051057,102.322696,31.189194278628303\\n124,883.3927742905246,aspiny,50.0000006675716,183.11971200000002,20.1220554738205\\n125,412.66239818940625,spiny,149.999998533268,145.055344,17.860126934887603\\n126,932.3289721157031,spiny,50.0000006675716,69.03335200000001,22.306639823927696\\n127,370.2316476967821,spiny,29.9999990127642,289.055712,26.8848161173338\\n128,983.4734635268186,spiny,69.9999988529321,152.46588799999998,33.5386211626237\\n129,1095.3665151282225,spiny,309.999997893939,48.636712,17.3418402639286\\n130,939.7038483036347,aspiny,129.99999687846,188.342384,7.66934932314891\\n131,582.2316962313613,spiny,29.9999990127642,363.163008,33.6251530080084\\n132,480.9033222160573,spiny,309.999997893939,71.584536,16.668697565356\\n133,534.1195117698412,spiny,170.000000188075,81.998816,20.1555014342071\\n134,592.0582180447427,spiny,200.000002670286,63.460724,21.926733165749198\\n135,447.78673747412597,spiny,289.999996239132,54.894264,20.4950337481237\\n136,539.9191781959543,spiny,59.9999980255284,167.395488,28.2970609380415\\n137,169.4581717416567,sparsely spiny,69.9999988529321,164.83776,18.861647096410998\\n138,757.5750547086834,spiny,29.9999990127642,249.487296,13.0894944422616\\n139,363.29350101689914,spiny,110.000002162547,80.439304,22.673519250300004\\n140,634.4346984039221,aspiny,39.9999998401679,199.320128,38.325717510222795\\n141,364.2671152634295,spiny,29.9999990127642,182.695952,23.486750075045\\n142,479.5671566162416,aspiny,100.000001335143,199.603296,11.016551726367199\\n143,633.0782300730872,aspiny,19.9999999200839,236.77424,24.2850641544872\\n144,864.4461134993555,spiny,529.999988341245,41.922672,17.0616528308986\\n145,829.0459658787636,spiny,499.999985859034,34.703652000000005,19.1544716024924\\n146,481.4165304043372,spiny,69.9999988529321,110.580048,21.0058056592473\\n147,619.2228420018115,spiny,299.999997066536,42.488696000000004,19.428771934075698\\n148,291.8984947465684,spiny,190.000001842883,109.5276,16.6385294279144\\n149,744.9246544076542,spiny,110.000002162547,270.369856,28.5890821881671\\n150,545.700475227167,spiny,420.00000699538,67.18243199999999,12.264587622329199\\n151,1080.7501767675797,spiny,210.00000349769,79.442976,35.6783137120191\\n152,1265.776805082837,spiny,509.999986686438,28.882844,17.0509843129832\\n153,286.4851024681863,spiny,50.0000006675716,185.931792,23.237702004501802\\n154,1094.873812240856,aspiny,170.000000188075,133.767984,12.556021309888802\\n155,912.7975346396761,spiny,230.000005152498,72.665088,14.590649257016599\\n'"
      ]
     },
     "execution_count": 46,
     "metadata": {},
     "output_type": "execute_result"
    }
   ],
   "source": [
    "dataset.to_csv('mouse_cell_metrics.csv')"
   ]
  },
  {
   "cell_type": "code",
   "execution_count": 42,
   "metadata": {},
   "outputs": [
    {
     "data": {
      "image/png": "[encoded data removed]",
      "text/plain": [
       "<Figure size 360x360 with 1 Axes>"
      ]
     },
     "metadata": {
      "image/png": {
       "height": 319,
       "width": 333
      },
      "needs_background": "light"
     },
     "output_type": "display_data"
    }
   ],
   "source": [
    "# Plot an individual comparison on a log scale\n",
    "\n",
    "fig = plt.figure(figsize=(5,5))\n",
    "\n",
    "plt.scatter(input_resistance,rheobase)\n",
    "\n",
    "plt.xscale('log')\n",
    "plt.yscale('log')\n",
    "plt.xlabel('Input Resistance (mOhms)')\n",
    "plt.ylabel('Rheobase (nA)')\n",
    "\n",
    "plt.show()"
   ]
  }
 ],
 "metadata": {
  "kernelspec": {
   "display_name": "Python 3",
   "language": "python",
   "name": "python3"
  },
  "language_info": {
   "codemirror_mode": {
    "name": "ipython",
    "version": 3
   },
   "file_extension": ".py",
   "mimetype": "text/x-python",
   "name": "python",
   "nbconvert_exporter": "python",
   "pygments_lexer": "ipython3",
   "version": "3.7.3"
  }
 },
 "nbformat": 4,
 "nbformat_minor": 2
}
