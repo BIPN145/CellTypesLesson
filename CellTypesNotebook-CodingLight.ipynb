{
 "cells": [
  {
   "cell_type": "markdown",
   "metadata": {},
   "source": [
    "# Defining cell types by their electrophysiology\n",
    "\n",
    "### The brain has thousands of different types of cells. How do we even begin to tease them apart?\n",
    "\n",
    "We can define neurons by their <b>gene expression patterns</b>, <b>electrophysiology features</b>, and <b>structure</b>. Here, we'll use those three features to compare and contrast cell types in humans and mice.\n",
    "\n",
    "This notebook will help us investigate specific features in the electrophysiology dataset from the Allen Brain Atlas. See <b>Technical Notes</b> at the end of this notebook for more information about working with the AllenSDK. This notebook is designed to be run after completing <a href=\"https://ajuavinett.github.io/CellTypesLesson/instructions\">this first activity</a>.\n",
    "\n",
    "### Table of Contents\n",
    "1. [Step 1. Importing Allen Cell Types Data](#one)\n",
    "2. [Step 2. Plotting electrophysiology data](#two)\n",
    "3. [Step 3. Plotting the morphology of the cell](#three)\n",
    "4. [Step 4. Analyze computed metrics](#four)\n",
    "5. [Step 5. Comparing human to mouse cells](#five)\n",
    "<hr>"
   ]
  },
  {
   "cell_type": "markdown",
   "metadata": {},
   "source": [
    "<a id=\"one\"></a>\n",
    "## Step 1. Importing Allen Cell Types data\n",
    "First, we'll `import` the CellTypesCache module. This module provides tools to allow us to get information from the cell types database. \n",
    "\n",
    "In order to run the line below, you need to have the AllenSDK installed. You can find information on how to do that locally <a href=\"http://alleninstitute.github.io/AllenSDK/install.html\">here</a>.\n",
    "- <b>If you're running this on Binder</b>, uncomment line 2 below.\n",
    "- <b>If you're running this on the UCSD Datahub</b>, the Allen SDK has already been installed for you.\n",
    "\n",
    "*Note*: There's a lot of code here that we're not explaining. You're not expected to know the ins and outs of this. If you're curious, the CellTypesCache that we're importing provides tools to allow us to get information from the cell types database. We're giving it a **manifest** filename as well. CellTypesCache will create this manifest file, which contains metadata about the cache. If you want, you can look under cell_types in your Jupyter directory, and take a look at the file."
   ]
  },
  {
   "cell_type": "code",
   "execution_count": null,
   "metadata": {},
   "outputs": [],
   "source": [
    "# If you need to install the AllenSDK, uncomment the line below.\n",
    "#%pip install allensdk\n",
    "\n",
    "#Import the \"Cell Types Cache\" from the AllenSDK core package\n",
    "from allensdk.core.cell_types_cache import CellTypesCache\n",
    "\n",
    "#Initialize the cache as 'ctc' (cell types cache)\n",
    "ctc = CellTypesCache(manifest_file='cell_types/manifest.json')"
   ]
  },
  {
   "cell_type": "markdown",
   "metadata": {},
   "source": [
    "Now that we have the packages we need, let's import a raw sweep of the data. The cell below will grab the data (in the form of a Neuroscience Without Borders, NWB, file) for the same experiment you just looked at on the website. \n",
    "\n",
    "<div class=\"alert alert-success\"><b>Task</b>: Find the cell specimen ID for the first cell you looked at on the Allen website (hint: it's in the URL), and enter this after cell_id below. Run the cell.\n",
    "\n",
    "This might take a minute or two. You should wait until the circle in the upper right is <i>not</i> filled to continue.</div>"
   ]
  },
  {
   "cell_type": "code",
   "execution_count": null,
   "metadata": {},
   "outputs": [],
   "source": [
    "# Enter your cell_id below\n",
    "cell_id = \n",
    "\n",
    "# Get the electrophysiology (ephys) data for that cell\n",
    "data = ctc.get_ephys_data(cell_id)\n",
    "print('Data retrieved')"
   ]
  },
  {
   "cell_type": "markdown",
   "metadata": {},
   "source": [
    "Thankfully, our NWB file has some built in methods to enable us to pull out a recording sweep. We can access methods of objects like our `data` object by adding a period, and then the method. That's what we're doing below, with `data.get_sweep()`.\n",
    "\n",
    "\n",
    "<div class=\"alert alert-success\">\n",
    "    <b>Task:</b> Choose your favorite sweep below. (<u>Hint</u>: go back to the website to see what the sweep numbers are.)</div>\n",
    "    \n",
    "<i>Note</i>: You may get an error about something being 'deprecated', but don't worry about it."
   ]
  },
  {
   "cell_type": "code",
   "execution_count": null,
   "metadata": {},
   "outputs": [],
   "source": [
    "# Assign your favorite sweep number to a variable \"sweep_number\" below.\n",
    "sweep_number = \n",
    "\n",
    "sweep_data = data.get_sweep(sweep_number) \n",
    "print('Sweep obtained')"
   ]
  },
  {
   "cell_type": "markdown",
   "metadata": {},
   "source": [
    "<a id=\"two\"></a>\n",
    "## Step 2. Plotting electrophysiology data\n",
    "Now that you've pulled down some data, chosen a cell, and chosen a sweep number, let's plot that data.\n",
    "\n",
    "First, let's import and rename a few packages that we need to plot our data.\n",
    "\n",
    "<div class=\"alert alert-success\">\n",
    "    <b>Task</b>: Just like you did in the introductory lesson, import the <a href=\"https://www.numpy.org/\">numpy</a> toolbox nicknamed as <code>np</code>. Add a <code>print</code> message at the end that says \"Packages imported\" so that you know the code ran.</div>"
   ]
  },
  {
   "cell_type": "code",
   "execution_count": null,
   "metadata": {
    "scrolled": true
   },
   "outputs": [],
   "source": [
    "# Specify that all plots will happen inline\n",
    "%matplotlib inline  \n",
    "\n",
    "# Import packages that we need. Put your import line below.\n",
    "import matplotlib.pyplot as plt\n",
    "\n",
    "# Import numpy below\n",
    "\n",
    "\n",
    "# Add your print() statement below\n"
   ]
  },
  {
   "cell_type": "markdown",
   "metadata": {},
   "source": [
    "Next, let's plot the sweep we've selected.\n",
    "\n",
    "<div class=\"alert alert-success\"><b>Task:</b> Run the cell below!</div>\n",
    "\n",
    "<i>Note</i>: There's a lot of code here, but don't worry about it too much. The principles are the same as in the Introduction to Jupyter Notebooks, except now we're plotting \"subplots\" -- multiple plots within one image -- so the code is a little bit more complicated."
   ]
  },
  {
   "cell_type": "code",
   "execution_count": null,
   "metadata": {
    "scrolled": false
   },
   "outputs": [],
   "source": [
    "# Get the stimulus trace and convert to pA\n",
    "stim_current = sweep_data['stimulus'] * 1e12 # in A, converted to pA\n",
    "\n",
    "# Get the voltage trace and convert to mV\n",
    "response_voltage = sweep_data['response'] * 1e3 # in V, converted to mV\n",
    "\n",
    "# We need to know the sampling rate so that we can create a time axis for our data\n",
    "sampling_rate = sweep_data['sampling_rate'] # in Hz\n",
    "time_stamps = (np.arange(0, len(response_voltage)) * (1.0 / sampling_rate))\n",
    "\n",
    "# Set up our plot\n",
    "fig, axes = plt.subplots(2, 1, sharex=True,figsize=(10,10))\n",
    "\n",
    "# axes 0 is our first plot, of the recorded voltage data\n",
    "axes[0].plot(time_stamps, response_voltage, color='black')\n",
    "axes[0].set_ylabel(\"mV\")\n",
    "#axes[0].set_xlim(0,3)\n",
    "axes[0].set_title(\"whole-cell patch recording\")\n",
    "\n",
    "# axes 1 is our second plot, of the stimulus trace\n",
    "axes[1].plot(time_stamps, stim_current, color='gray')\n",
    "axes[1].set_ylabel(\"pA\")\n",
    "axes[1].set_xlabel(\"seconds\")\n",
    "axes[1].set_title(\"stimulus\")\n",
    "\n",
    "plt.show()"
   ]
  },
  {
   "cell_type": "markdown",
   "metadata": {},
   "source": [
    "This plot probably looks different from the plot on the website, why?\n",
    "\n",
    "<div class=\"alert alert-success\">\n",
    "<b>Hint:</b> There is a line that has been commented out above. Uncomment the line to change the scaling of the x-axis in order to zoom in on the period where the current was applied. If necessary, change the second value in set_xlim to change the extent of the x axis. Re-run the cell to re-plot the data.</div>"
   ]
  },
  {
   "cell_type": "markdown",
   "metadata": {},
   "source": [
    "<a id=\"three\"></a>\n",
    "## Step 3. Plotting the morphology of the cell\n",
    "The Cell Types Database also contains 3D reconstructions of neuronal morphologies. Here, we'll plot the reconstruction of our cell's morphology. <b>It may take a minute or two to run the cell below.</b>"
   ]
  },
  {
   "cell_type": "code",
   "execution_count": null,
   "metadata": {},
   "outputs": [],
   "source": [
    "# Import necessary toolbox\n",
    "from allensdk.core.swc import Marker\n",
    "\n",
    "# Download and open morphology and marker files\n",
    "morphology = ctc.get_reconstruction(cell_id) \n",
    "markers = ctc.get_reconstruction_markers(cell_id) \n",
    "\n",
    "# Set up our plot\n",
    "fig, axes = plt.subplots(1, 2, sharey=True, sharex=True, figsize=(10,10))\n",
    "axes[0].set_aspect('equal')\n",
    "axes[1].set_aspect('equal')\n",
    "\n",
    "# Make a line drawing of x-y and y-z views\n",
    "for n in morphology.compartment_list:\n",
    "    for c in morphology.children_of(n):\n",
    "        axes[0].plot([n['x'], c['x']], [n['y'], c['y']], color='black')\n",
    "        axes[1].plot([n['z'], c['z']], [n['y'], c['y']], color='black')\n",
    "\n",
    "# cut dendrite markers\n",
    "dm = [ m for m in markers if m['name'] == Marker.CUT_DENDRITE ]\n",
    "axes[0].scatter([m['x'] for m in dm], [m['y'] for m in dm], color='#3333ff')\n",
    "axes[1].scatter([m['z'] for m in dm], [m['y'] for m in dm], color='#3333ff')\n",
    "\n",
    "# no reconstruction markers\n",
    "nm = [ m for m in markers if m['name'] == Marker.NO_RECONSTRUCTION ]\n",
    "axes[0].scatter([m['x'] for m in nm], [m['y'] for m in nm], color='#333333')\n",
    "axes[1].scatter([m['z'] for m in nm], [m['y'] for m in nm], color='#333333')\n",
    "axes[0].set_ylabel('y')\n",
    "axes[0].set_xlabel('x')\n",
    "axes[1].set_xlabel('z')\n",
    "plt.show()"
   ]
  },
  {
   "cell_type": "markdown",
   "metadata": {},
   "source": [
    "<a id=\"four\"></a>\n",
    "## Step 4. Analyze computed metrics\n",
    "\n",
    "The Cell Types Database contains a set of features that have already been computed, which could serve as good starting points for analysis. We can query the database to get these features. Below, we'll use the Pandas package that we imported above to create a **dataframe** for our data.\n",
    "\n",
    "<div class=\"alert alert-success\">\n",
    "    <b>Task</b>: Run the cell below. It'll take ~10 seconds. It will print a list of all of the feature available, as well as produce a dataframe, which looks something like an excel spreadsheet. You can scroll to the right to see all of the different features available in this dataset.</div>\n",
    "\n",
    "<i>Note</i> you may get an error that says 'from_csv is deprecated' while running this, but it won't disrupt the script. You can ignore it."
   ]
  },
  {
   "cell_type": "code",
   "execution_count": null,
   "metadata": {},
   "outputs": [],
   "source": [
    "import pandas as pd\n",
    "\n",
    "# Download all electrophysiology features for all cells\n",
    "ephys_features = ctc.get_ephys_features()\n",
    "ef_df = pd.DataFrame(ephys_features).set_index('specimen_id')\n",
    "\n",
    "print('Ephys features available for %d cells:' % len(ef_df))\n",
    "print(ef_df.columns)\n",
    "ef_df.head() # Just show the first 5 rows (the head) of our dataframe "
   ]
  },
  {
   "cell_type": "markdown",
   "metadata": {},
   "source": [
    "That's how to get all the ephys features for a given specimen - what if we want a particular feature for all cells? Let's first look at the speed of the trough, and the ratio between the upstroke and downstroke of the action potential.\n",
    "![](https://github.com/ajuavinett/CellTypesLesson/blob/master/docs/ap_features.png?raw=true)\n",
    "<div style=\"background: #F3D48D; border-radius: 3px; padding: 10px;\">\n",
    "<b>Action potential fast trough (fast_trough_v_long_square)</b>: Minimum value of the membrane potential in the interval lasting 5 ms after the peak.\n",
    "\n",
    "<b>Upstroke/downstroke ratio (upstroke_downstroke_ratio_long_square)</b>: The ratio between the absolute values of the action potential peak upstroke and the action potential peak downstroke.</div> "
   ]
  },
  {
   "cell_type": "code",
   "execution_count": null,
   "metadata": {},
   "outputs": [],
   "source": [
    "plt.scatter(ef_df['fast_trough_v_long_square'], \n",
    "            ef_df['upstroke_downstroke_ratio_long_square'])\n",
    "plt.ylabel(\"upstroke-downstroke ratio\")\n",
    "plt.xlabel(\"fast trough depth (mV)\")\n",
    "plt.show()"
   ]
  },
  {
   "cell_type": "markdown",
   "metadata": {},
   "source": [
    "It looks like there may be roughly two clusters in the data above. Maybe they relate to whether the cells are presumably excitatory (spiny) cells or inhibitory (aspiny) cells. Let's query the API and split up the two sets to see.\n",
    "\n",
    "<div class=\"alert alert-success\">\n",
    "<b>Task:</b> The cell below will dig up the dendrite type of these cells and add that to our dataframe. Then, it'll create our same scatterplot, where each dot is colored by dendrite type. All you need to do is run the cell!</div>"
   ]
  },
  {
   "cell_type": "code",
   "execution_count": null,
   "metadata": {
    "scrolled": true
   },
   "outputs": [],
   "source": [
    "# Get information about our cells' dendrites\n",
    "cells = ctc.get_cells()\n",
    "ef_df_dendrites = ef_df.join(pd.DataFrame(cells).set_index('id'))\n",
    "\n",
    "# Create a dataframe for spiny cells, and a dataframe for aspiny cells\n",
    "spiny_df = ef_df_dendrites[ef_df_dendrites['dendrite_type'] == 'spiny']\n",
    "aspiny_df = ef_df_dendrites[ef_df_dendrites['dendrite_type'] == 'aspiny']\n",
    "\n",
    "# Create our plot! Calling scatter twice like this will draw both of these on the same plot.\n",
    "plt.scatter(spiny_df['fast_trough_v_long_square'],spiny_df['upstroke_downstroke_ratio_long_square'])\n",
    "plt.scatter(aspiny_df['fast_trough_v_long_square'],aspiny_df['upstroke_downstroke_ratio_long_square'])\n",
    "\n",
    "plt.ylabel(\"upstroke-downstroke ratio\")\n",
    "plt.xlabel(\"fast trough depth (mV)\")\n",
    "plt.legend(['Spiny','Aspiny'])\n",
    "    \n",
    "plt.show()"
   ]
  },
  {
   "cell_type": "markdown",
   "metadata": {},
   "source": [
    "Looks like these two clusters do partially relate to the dendritic type. Cells with spiny dendrites (which are typically excitatory cells) have a big ratio of upstroke:downstroke, and a more shallow trough (less negative). Cells with aspiny dendrites (typically inhibitory cells) are a little bit more varied. But </i>only</i> aspiny cells have a low upstroke:downstroke ratio and a deeper trough (more negative).\n",
    "\n",
    "Let's take a closer look at the action potentials of these cells to see what these metrics actually mean for the action potential waveform by choosing one of the cells with the highest upstroke:downstroke ratio."
   ]
  },
  {
   "cell_type": "code",
   "execution_count": null,
   "metadata": {},
   "outputs": [],
   "source": [
    "# Sort our dataframe so that it's ascending based on upstroke:downstroke ratio\n",
    "ef_df_upstroke_sorted = ef_df.sort_values('upstroke_downstroke_ratio_long_square',ascending=False)\n",
    "\n",
    "# Assign one of the top cells in our dataframe and the ratio to different variables\n",
    "specimen_id = ef_df_upstroke_sorted.index[2]\n",
    "ratio = ef_df_upstroke_sorted.iloc[2]['upstroke_downstroke_ratio_long_square']\n",
    "\n",
    "# Print our results so that we can see them\n",
    "print('Specimen ID: ' + str(specimen_id) + ' with upstroke-downstroke ratio: ' + str(ratio))"
   ]
  },
  {
   "cell_type": "markdown",
   "metadata": {},
   "source": [
    "Now we can take a closer look at the action potential for that cell by grabbing its electrophysiology data, just like we did above. Let's find a good sweep that will show us some nice action potentials. The next cell of code will look for sweep numbers with a Long Square stimulus of at least 200 pA. It'll print some sweep IDs.\n",
    "\n",
    "<div class=\"alert alert-success\"><b>Task:</b> Run the cell below!</div>"
   ]
  },
  {
   "cell_type": "code",
   "execution_count": null,
   "metadata": {},
   "outputs": [],
   "source": [
    "# Get the data for our specimen\n",
    "upstroke_data = ctc.get_ephys_data(specimen_id)\n",
    "\n",
    "# Get one sweep for our specimen (I've already handselected a gorgeous one for you, 45)\n",
    "upstroke_sweep = upstroke_data.get_sweep(45) \n",
    "\n",
    "# Get the current & voltage traces\n",
    "current = upstroke_sweep['stimulus'] * 1e12 # in A, converted to pA\n",
    "voltage = upstroke_sweep['response'] * 1e3 # converted to mV!\n",
    "\n",
    "# Get the time stamps for our voltage trace\n",
    "timestamps = (np.arange(0, len(voltage)) * (1.0 / upstroke_sweep['sampling_rate']))"
   ]
  },
  {
   "cell_type": "markdown",
   "metadata": {},
   "source": [
    "And now let's plot our sweep. You may need to change some values in the plotting script to actually zoom in on the action potential, or change the sweep number to one where you can see an action potential.\n",
    "\n",
    "<div class=\"alert alert-success\"><b>Task</b>: Modify the plotting script so that you can actually see the shape of the action potential.</div>"
   ]
  },
  {
   "cell_type": "code",
   "execution_count": null,
   "metadata": {},
   "outputs": [],
   "source": [
    "fig, axes = plt.subplots(2, 1, sharex=True)\n",
    "\n",
    "# axes 0 is our first plot, of the recorded voltage data\n",
    "axes[0].plot(timestamps, voltage, color='black')\n",
    "axes[0].set_ylabel(\"mV\")\n",
    "axes[0].set_title(\"whole-cell patch recording\")\n",
    "\n",
    "#axes 1 is our second plot, of the stimulus trace\n",
    "axes[1].plot(timestamps, current, color='gray')\n",
    "axes[1].set_ylabel(\"pA\")\n",
    "axes[1].set_xlabel(\"seconds\")\n",
    "axes[1].set_title(\"stimulus\")\n",
    "\n",
    "plt.show()"
   ]
  },
  {
   "cell_type": "markdown",
   "metadata": {},
   "source": [
    "Let's do the same thing for a cell with a low upstroke ratio and compare. The code below is the same as above, except we've swapped out `True` for `False` where it says `ascending= `. \n",
    "\n",
    "<div class=\"alert alert-success\"><b>Task:</b> Run the cells below! Similiar to above, zoom in on the x axis so that you can actually see the shape of the waveform. </div>"
   ]
  },
  {
   "cell_type": "code",
   "execution_count": null,
   "metadata": {},
   "outputs": [],
   "source": [
    "# Sort our dataframe so that it's ascending based on upstroke:downstroke ratio\n",
    "ef_df_upstroke_sorted = ef_df.sort_values('upstroke_downstroke_ratio_long_square',ascending=True)\n",
    "\n",
    "# Assign one of the top cells in our dataframe and the ratio to different variables\n",
    "specimen_id = ef_df_upstroke_sorted.index[2]\n",
    "ratio = ef_df_upstroke_sorted.iloc[2]['upstroke_downstroke_ratio_long_square']\n",
    "\n",
    "# Print our results so that we can see them\n",
    "print('Specimen ID: ' + str(specimen_id) + ' with upstroke-downstroke ratio: ' + str(ratio))"
   ]
  },
  {
   "cell_type": "code",
   "execution_count": null,
   "metadata": {},
   "outputs": [],
   "source": [
    "# Get the data for our specimen\n",
    "upstroke_data = ctc.get_ephys_data(specimen_id)\n",
    "\n",
    "# Get one sweep for our specimen (I've already handselected a gorgeous one for you, 45)\n",
    "upstroke_sweep = upstroke_data.get_sweep(45) \n",
    "\n",
    "# Get the current & voltage traces\n",
    "current = upstroke_sweep['stimulus'] * 1e12 # in A, converted to pA\n",
    "voltage = upstroke_sweep['response'] * 1e3 # converted to mV!\n",
    "\n",
    "# Get the time stamps for our voltage trace\n",
    "timestamps = (np.arange(0, len(voltage)) * (1.0 / upstroke_sweep['sampling_rate']))"
   ]
  },
  {
   "cell_type": "code",
   "execution_count": null,
   "metadata": {},
   "outputs": [],
   "source": [
    "fig, axes = plt.subplots(2, 1, sharex=True)\n",
    "\n",
    "axes[0].plot(timestamps, voltage, color='black')\n",
    "axes[0].set_ylabel(\"mV\")\n",
    "axes[0].set_title(\"cell with lowest upstroke:downstroke ratio\")\n",
    "\n",
    "axes[1].plot(timestamps, current, color='gray')\n",
    "axes[1].set_ylabel(\"pA\")\n",
    "axes[1].set_xlabel(\"seconds\")\n",
    "axes[1].set_title(\"stimulus\")\n",
    "\n",
    "plt.show()"
   ]
  },
  {
   "cell_type": "markdown",
   "metadata": {},
   "source": [
    "As you can see, even that one metric, upstroke:downstroke ratio, means the shape of the action potential is dramatically different. The other metric above, size of the trough, is highly correlated with upstroke:downstroke. You can see that by comparing the two cells here. Cells with high upstroke:downstroke tend to have less negative troughs (undershoots) after the action potential."
   ]
  },
  {
   "cell_type": "markdown",
   "metadata": {},
   "source": [
    "<a id=\"five\"></a>\n",
    "\n",
    "## Step 5. Comparing human to mouse cells\n",
    "Let's get out of the action potential weeds a bit. What if we want to know a big picture thing, such as <b>are human cells different than mouse cells?</b>\n",
    "    \n",
    "We can make similar plots to above but subselected for human and mouse cells. First, let's get an idea of how many cells of each type are here."
   ]
  },
  {
   "cell_type": "code",
   "execution_count": null,
   "metadata": {
    "scrolled": false
   },
   "outputs": [],
   "source": [
    "from allensdk.api.queries.cell_types_api import CellTypesApi\n",
    "\n",
    "# download all cells\n",
    "cells = ctc.get_cells()\n",
    "print(\"Total cells: %d\" % len(cells))\n",
    "# mouse cells\n",
    "cells = ctc.get_cells(species=[CellTypesApi.MOUSE])\n",
    "print(\"Mouse cells: %d\" % len(cells))\n",
    "# human cells\n",
    "cells = ctc.get_cells(species=[CellTypesApi.HUMAN])\n",
    "print(\"Human cells: %d\" % len(cells))"
   ]
  },
  {
   "cell_type": "markdown",
   "metadata": {},
   "source": [
    "Let's now get all of the electrophysiology data for the mouse and human cells, separately."
   ]
  },
  {
   "cell_type": "code",
   "execution_count": null,
   "metadata": {},
   "outputs": [],
   "source": [
    "# make a dataframe out of ephys features\n",
    "ephys_features_df = pd.DataFrame.from_records(ephys_features)\n",
    "ephys_features_df.head(1)\n",
    "\n",
    "# grab mouse data and merge with dataframe\n",
    "mouse_df = pd.DataFrame(ctc.get_cells(species=[CellTypesApi.MOUSE]))\n",
    "mouse_ephys_df = pd.merge(mouse_df,ephys_features_df,left_on='id',right_on='specimen_id',how='left')\n",
    "\n",
    "# grab human data and merge with dataframe\n",
    "human_df = pd.DataFrame(ctc.get_cells(species=[CellTypesApi.HUMAN]))\n",
    "human_ephys_df = pd.merge(human_df,ephys_features_df,left_on='id',right_on='specimen_id',how='left')\n",
    "\n",
    "print('Dataframes created.')"
   ]
  },
  {
   "cell_type": "markdown",
   "metadata": {},
   "source": [
    "Let's look at the first five rows of our mouse and human datasets here.\n",
    "\n",
    "<div class=\"alert alert-success\"><b>Task</b>: Show the first few rows of the table by using brackets after the variable name. Look above to see which variable your merged dataframe is saved as (hint: it's the variable assigned in the line where <code>pd.merge</code> is used). Then, you'll you want to enter <code>variable_name[1:5]</code>. Do this for the mouse data in the first cell below, and human data in the second. Scroll to the right within the table to see all of the available parameters for the cell.</div>"
   ]
  },
  {
   "cell_type": "code",
   "execution_count": null,
   "metadata": {},
   "outputs": [],
   "source": []
  },
  {
   "cell_type": "code",
   "execution_count": null,
   "metadata": {
    "scrolled": true
   },
   "outputs": [],
   "source": []
  },
  {
   "cell_type": "markdown",
   "metadata": {},
   "source": [
    "Let's start by plotting the resting membrane potential for all of our human cells vs all of our mouse cells."
   ]
  },
  {
   "cell_type": "code",
   "execution_count": null,
   "metadata": {},
   "outputs": [],
   "source": [
    "plt.figure()\n",
    "\n",
    "# Change your parameter below. Make sure this matches the names in the list you generated above!\n",
    "parameter = 'vrest'\n",
    "\n",
    "# Below it is set to plot resting membrane potential 'vrest'.\n",
    "# That's where you can change what is being plotted.\n",
    "# Make sure you change it for both the mouse and human plot!\n",
    "plt.hist([mouse_ephys_df[parameter],human_ephys_df[parameter]],color=[(0, .5,.5, 0.5),(0, 0, 1, 0.5)])\n",
    "\n",
    "# this is where you should change the label:\n",
    "plt.xlabel('Resting Membrane Potential (mV)')\n",
    "plt.ylabel('Number of Cells')\n",
    "plt.legend(['mouse','human'])\n",
    "plt.show()"
   ]
  },
  {
   "cell_type": "markdown",
   "metadata": {},
   "source": [
    "<div class=\"alert alert-success\"> <b>Task</b>: Choose a different parameter to compare between human and mouse cells, and rerun the plot above. Use the documentation below to get the exact name of the parameter (in parentheses), and change the x label axis so that we know what you're plotting.\n",
    "\n",
    "Save your figure by right clicking on the image above. You'll need to submit this with the assignment.</div>\n",
    "\n",
    "Here are a few additional metrics you might consider comparing (you can find a complete glossary [here](https://docs.google.com/document/d/1YGLwkMTebwrXd_1E817LFbztMjSTCWh83Mlp3_3ZMEo/edit?usp=sharing):\n",
    "\n",
    "<div style=\"background: #F3D48D; border-radius: 3px; padding: 10px;\">\n",
    "<b>Action potential fast trough (fast_trough_v_long_square)</b>: Minimum value of the membrane potential in the interval lasting 5 ms after the peak.\n",
    "    \n",
    "<b>Upstroke/downstroke ratio (upstroke_downstroke_ratio_long_square)</b>: The ratio between the absolute values of the action potential peak upstroke and the action potential peak downstroke.\n",
    "    \n",
    "<b>Adapation ratio (adaptation)</b>: The rate at which firing speeds up or slows down during a stimulus<br>\n",
    "    \n",
    "<b>Average ISI (avg_isi)</b>: The mean value of all interspike intervals in a sweep.<br>\n",
    "    \n",
    "<b>Voltage of after-hyperpolarization (trough_v_short_square)</b>: minimum value of the membrane potential during the after-hyperpolarization</div>\n",
    "    \n",
    "\n",
    "### Subselect for spiny or aspiny cells.\n",
    "Final step for today! The histogram above is for <i>all cell types</i>, which is a really hetergenous bunch.\n",
    "\n",
    "What happens if we subselect our human and mouse cells to be just spiny, or just aspiny? Will those types be more different in humans and mice?\n",
    "\n",
    "<div class=\"alert alert-success\"><b>Task</b>: Decide whether you want to look at spiny or aspiny cells by setting cell_type to either 'spiny' or 'aspiny' below. The value of your variable needs to be a <b>string</b> -- in other words, it should have quotes around it.</div>"
   ]
  },
  {
   "cell_type": "code",
   "execution_count": null,
   "metadata": {},
   "outputs": [],
   "source": [
    "cell_type =\n",
    "\n",
    "human = human_ephys_df[human_ephys_df['dendrite_type']== cell_type]\n",
    "mouse = mouse_ephys_df[mouse_ephys_df['dendrite_type']== cell_type]\n",
    "print(['Number of human' + cell_type + 'cells: %d' % len(human)])\n",
    "print(['Number of mouse' + cell_type + 'cells: %d' % len(mouse))\n",
    "\n",
    "# Change your parameter below.\n",
    "parameter = 'vrest'\n",
    "\n",
    "plt.hist([mouse[parameter],human[parameter]],color=[(0, .5,.5, 0.5),(0, 0, 1, 0.5)])\n",
    "plt.xlabel('Resting Membrane Potential (mV)')\n",
    "plt.ylabel('Number of Cells')\n",
    "plt.legend(['mouse','human'])\n",
    "\n",
    "#cells_concat = pd.concat([mouse[parameter],human[parameter]],axis=1)\n",
    "#cells_concat.columns = ['mouse','human']\n",
    "#cells_concat.boxplot()\n",
    "#plt.ylabel('Resting Membrane Potential (mv)')\n",
    "\n",
    "plt.show()"
   ]
  },
  {
   "cell_type": "markdown",
   "metadata": {},
   "source": [
    "<div class=\"alert alert-success\"><b>Task</b>: It's a little hard to see differences here, so let's plot it as a boxplot. <b>Comment</b> out the lines for the histogram (add a <code>#</code> and <b><i>uncomment</b></i> the four lines below. Re-run the code to get a boxplot of the data.\n",
    "\n",
    "Change the metric here to whatever metric you created and saved a histogram for above. Save your image when you're done.\n",
    "\n",
    "Submit both of your images along with your answers to the worksheet.\n",
    "</div>"
   ]
  },
  {
   "cell_type": "code",
   "execution_count": null,
   "metadata": {},
   "outputs": [],
   "source": [
    "from IPython.display import HTML\n",
    "print('Nice work!')\n",
    "HTML('<img src=\"https://media.giphy.com/media/xUOwGhOrYP0jP6iAy4/giphy.gif\">')"
   ]
  },
  {
   "cell_type": "markdown",
   "metadata": {},
   "source": [
    "-----------\n",
    "\n",
    "#### Technical notes & credits\n",
    "\n",
    "This notebook demonstrates most of the features of the AllenSDK that help manipulate data in the Cell Types Database.  The main entry point will be through the `CellTypesCache` class. `CellTypesCache` is responsible for downloading Cell Types Database data to a standard directory structure on your hard drive.  If you use this class, you will not have to keep track of where your data lives, other than a root directory.\n",
    "\n",
    "Much more information can be found in the <a href=\"http://help.brain-map.org/download/attachments/8323525/CellTypes_Ephys_Overview.pdf\">Allen Brain Atlas whitepaper</a> as well as in their <a href=\"http://alleninstitute.github.io/AllenSDK/cell_types.html\">GitHub documentation</a>.\n",
    "\n",
    "This file modified from <a href='https://alleninstitute.github.io/AllenSDK/_static/examples/nb/cell_types.html'>this</a> notebook.\n",
    "\n",
    "In case you're curious, <a href=\"https://pandas.pydata.org/pandas-docs/stable/reference/api/pandas.Series.plot.html \">here's documentation</a> for plotting pandas series (which we do quite a bit above). You can always Google questions you have!)"
   ]
  }
 ],
 "metadata": {
  "kernelspec": {
   "display_name": "Python 3",
   "language": "python",
   "name": "python3"
  },
  "language_info": {
   "codemirror_mode": {
    "name": "ipython",
    "version": 3
   },
   "file_extension": ".py",
   "mimetype": "text/x-python",
   "name": "python",
   "nbconvert_exporter": "python",
   "pygments_lexer": "ipython3",
   "version": "3.7.3"
  }
 },
 "nbformat": 4,
 "nbformat_minor": 1
}
